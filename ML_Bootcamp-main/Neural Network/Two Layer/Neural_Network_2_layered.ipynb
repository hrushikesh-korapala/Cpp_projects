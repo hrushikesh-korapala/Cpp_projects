{
 "cells": [
  {
   "cell_type": "code",
   "execution_count": 1,
   "metadata": {
    "id": "VhZUZmme_YH5"
   },
   "outputs": [],
   "source": [
    "import numpy as np\n",
    "import pandas as pd\n",
    "import matplotlib.pyplot as plt"
   ]
  },
  {
   "cell_type": "code",
   "execution_count": 2,
   "metadata": {
    "id": "9ZF2KdwzUdd_"
   },
   "outputs": [],
   "source": [
    "# Importing, splitting and assigning train data\n",
    "df = pd.read_csv('sample_data/mnist_train_small.csv',header = None)\n",
    "X_train = np.array(df.iloc[:,1:])\n",
    "y_train = np.array(df.iloc[:,0:1])\n",
    "# Importing, splitting and assigning test data\n",
    "df1 = pd.read_csv('sample_data/mnist_test.csv',header = None)\n",
    "X_test = np.array(df.iloc[:,1:])\n",
    "y_test = np.array(df.iloc[:,0:1])"
   ]
  },
  {
   "cell_type": "code",
   "execution_count": null,
   "metadata": {
    "id": "MZrtM_B_6eyT"
   },
   "outputs": [],
   "source": [
    "from google.colab import files\n",
    "files.upload()"
   ]
  },
  {
   "cell_type": "markdown",
   "metadata": {
    "id": "DqYO6XUzV0bF"
   },
   "source": [
    "# Neural Network (Two Layered)\n",
    "\n"
   ]
  },
  {
   "cell_type": "code",
   "execution_count": 4,
   "metadata": {
    "id": "qn3NTYnN6blc"
   },
   "outputs": [],
   "source": [
    "from neural_network_2layered import NeuralNetwork"
   ]
  },
  {
   "cell_type": "code",
   "execution_count": 5,
   "metadata": {
    "id": "fTulZS4fUoDu"
   },
   "outputs": [],
   "source": [
    "NN = NeuralNetwork(alpha=0.5, lam=0.15, num_iters=1000, hidden_layer_size=40)\n",
    "# Takes X, y(Training data) and updates parameters.\n",
    "NN.fit(X_train,y_train,10)"
   ]
  },
  {
   "cell_type": "code",
   "execution_count": 6,
   "metadata": {
    "colab": {
     "base_uri": "https://localhost:8080/",
     "height": 295
    },
    "id": "ytBBRpbDYp95",
    "outputId": "306e6ea2-050d-43ec-be22-c7b3bf356e57"
   },
   "outputs": [
    {
     "data": {
      "image/png": "[encoded data removed]",
      "text/plain": [
       "<Figure size 432x288 with 1 Axes>"
      ]
     },
     "metadata": {
      "needs_background": "light",
      "tags": []
     },
     "output_type": "display_data"
    }
   ],
   "source": [
    "NN.plot()    # Plotting (Cost Function vs Iterations)"
   ]
  },
  {
   "cell_type": "code",
   "execution_count": 7,
   "metadata": {
    "colab": {
     "base_uri": "https://localhost:8080/"
    },
    "id": "gqDYn1MR_U1A",
    "outputId": "8d1fb1cb-99d8-463b-96ae-2a4fbed1a0e8"
   },
   "outputs": [
    {
     "name": "stdout",
     "output_type": "stream",
     "text": [
      "Accuracy of trained model on train data 95.135\n",
      "Accuracy of trained model on test data 95.22500000000001\n"
     ]
    }
   ],
   "source": [
    "y_pred = NN.predict(X_train)\n",
    "print(\"Accuracy of trained model on train data\", NN.accuracy(y_train,y_pred))\n",
    "y_pred = NN.predict(X_test)\n",
    "print(\"Accuracy of trained model on test data\", NN.accuracy(y_test,y_pred))"
   ]
  },
  {
   "cell_type": "markdown",
   "metadata": {
    "id": "iR5g4ABrWAj5"
   },
   "source": [
    "# Neural Network (Two Layered with mini-batch gradient descent)"
   ]
  },
  {
   "cell_type": "code",
   "execution_count": 3,
   "metadata": {
    "id": "_q4_8lGouKdu"
   },
   "outputs": [],
   "source": [
    "from neural_network_2layered_minibatch import NeuralNetwork"
   ]
  },
  {
   "cell_type": "code",
   "execution_count": 4,
   "metadata": {
    "id": "jQkie-lNU4Yd"
   },
   "outputs": [],
   "source": [
    "NN = NeuralNetwork(alpha=0.5, lam=0.15, num_iters=50, hidden_layer_size=40, batch_size=500)\n",
    "# Takes X, y(Training data) and updates parameters.\n",
    "NN.fit(X_train,y_train,10)"
   ]
  },
  {
   "cell_type": "code",
   "execution_count": 5,
   "metadata": {
    "colab": {
     "base_uri": "https://localhost:8080/",
     "height": 295
    },
    "id": "rTkKoDauU4wB",
    "outputId": "4c03f7d6-dc17-43d6-9087-f8c65ad68b97"
   },
   "outputs": [
    {
     "data": {
      "image/png": "[encoded data removed]",
      "text/plain": [
       "<Figure size 432x288 with 1 Axes>"
      ]
     },
     "metadata": {
      "needs_background": "light",
      "tags": []
     },
     "output_type": "display_data"
    }
   ],
   "source": [
    "NN.plot()    # Plotting (Cost Function vs Iterations)"
   ]
  },
  {
   "cell_type": "code",
   "execution_count": 6,
   "metadata": {
    "colab": {
     "base_uri": "https://localhost:8080/"
    },
    "id": "duvdFoL2U9le",
    "outputId": "df8d6a88-27f6-4802-e9d2-ca6e07336821"
   },
   "outputs": [
    {
     "name": "stdout",
     "output_type": "stream",
     "text": [
      "Accuracy of trained model on train data: 96.58\n",
      "Accuracy of trained model on test data: 96.69\n"
     ]
    }
   ],
   "source": [
    "y_pred = NN.predict(X_train)\n",
    "print(\"Accuracy of trained model on train data:\", NN.accuracy(y_train,y_pred))\n",
    "y_pred = NN.predict(X_test)\n",
    "print(\"Accuracy of trained model on test data:\", NN.accuracy(y_test,y_pred))"
   ]
  },
  {
   "cell_type": "markdown",
   "metadata": {
    "id": "c1jL0zEqXv2v"
   },
   "source": [
    "# Neural Network (Scikit learn)"
   ]
  },
  {
   "cell_type": "code",
   "execution_count": 7,
   "metadata": {
    "colab": {
     "base_uri": "https://localhost:8080/"
    },
    "id": "jvy-7EGSXvGm",
    "outputId": "ce8bf86f-6695-4c2f-aa0f-386252e2c7dc"
   },
   "outputs": [
    {
     "data": {
      "text/plain": [
       "MLPClassifier(activation='logistic', alpha=0.0001, batch_size='auto',\n",
       "              beta_1=0.9, beta_2=0.999, early_stopping=False, epsilon=1e-08,\n",
       "              hidden_layer_sizes=40, learning_rate='constant',\n",
       "              learning_rate_init=0.001, max_fun=15000, max_iter=200,\n",
       "              momentum=0.9, n_iter_no_change=10, nesterovs_momentum=True,\n",
       "              power_t=0.5, random_state=None, shuffle=True, solver='adam',\n",
       "              tol=0.0001, validation_fraction=0.1, verbose=False,\n",
       "              warm_start=False)"
      ]
     },
     "execution_count": 7,
     "metadata": {
      "tags": []
     },
     "output_type": "execute_result"
    }
   ],
   "source": [
    "from sklearn.neural_network import MLPClassifier\n",
    "from sklearn import preprocessing\n",
    "sk = MLPClassifier(hidden_layer_sizes=(40), activation='logistic')  \n",
    "X_train_ = preprocessing.scale(X_train)\n",
    "y_train_ = y_train.ravel()\n",
    "X_test_ = preprocessing.scale(X_test)\n",
    "y_test_ = y_test.ravel()\n",
    "sk.fit(X_train_,y_train_)"
   ]
  },
  {
   "cell_type": "code",
   "execution_count": 8,
   "metadata": {
    "colab": {
     "base_uri": "https://localhost:8080/"
    },
    "id": "coLE7iuhmGGo",
    "outputId": "143b7e87-96a4-4dad-b724-4a56c27ed877"
   },
   "outputs": [
    {
     "name": "stdout",
     "output_type": "stream",
     "text": [
      "Accuracy of trained model on train data: 99.99\n",
      "Accuracy of trained model on test data: 99.99\n"
     ]
    }
   ],
   "source": [
    "accuracy = sk.score(X_train_,y_train_)*100\n",
    "print(\"Accuracy of trained model on train data:\",accuracy)\n",
    "accuracy = sk.score(X_test_,y_train_)*100\n",
    "print(\"Accuracy of trained model on test data:\",accuracy)"
   ]
  },
  {
   "cell_type": "code",
   "execution_count": null,
   "metadata": {
    "id": "4K6DxxvmwjEp"
   },
   "outputs": [],
   "source": []
  }
 ],
 "metadata": {
  "colab": {
   "collapsed_sections": [],
   "name": "Neural Network 2 layered Final.ipynb",
   "provenance": []
  },
  "kernelspec": {
   "display_name": "Python 3",
   "language": "python",
   "name": "python3"
  },
  "language_info": {
   "codemirror_mode": {
    "name": "ipython",
    "version": 3
   },
   "file_extension": ".py",
   "mimetype": "text/x-python",
   "name": "python",
   "nbconvert_exporter": "python",
   "pygments_lexer": "ipython3",
   "version": "3.8.5"
  }
 },
 "nbformat": 4,
 "nbformat_minor": 1
}
