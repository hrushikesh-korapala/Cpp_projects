{
 "cells": [
  {
   "cell_type": "markdown",
   "metadata": {
    "id": "uivYHChGEg6V"
   },
   "source": [
    "# Neural Network (Multi Layer)"
   ]
  },
  {
   "cell_type": "code",
   "execution_count": 1,
   "metadata": {
    "id": "9WuSbQJgmEhF"
   },
   "outputs": [],
   "source": [
    "import numpy as np\n",
    "import pandas as pd\n",
    "import matplotlib.pyplot as plt"
   ]
  },
  {
   "cell_type": "code",
   "execution_count": 2,
   "metadata": {
    "id": "w3hg39A1mVtm"
   },
   "outputs": [],
   "source": [
    "# Importing, splitting and assigning train data\n",
    "df = pd.read_csv('sample_data/mnist_train_small.csv',header = None)\n",
    "X_train = np.array(df.iloc[:,1:])\n",
    "y_train = np.array(df.iloc[:,0:1])\n",
    "# Importing, splitting and assigning test data\n",
    "df1 = pd.read_csv('sample_data/mnist_test.csv',header = None)\n",
    "X_test = np.array(df.iloc[:,1:])\n",
    "y_test = np.array(df.iloc[:,0:1])"
   ]
  },
  {
   "cell_type": "code",
   "execution_count": null,
   "metadata": {
    "id": "_mVhrjJFmlCe"
   },
   "outputs": [],
   "source": [
    "from google.colab import files\n",
    "files.upload()"
   ]
  },
  {
   "cell_type": "code",
   "execution_count": 4,
   "metadata": {
    "id": "OHt2I3IoDEpo"
   },
   "outputs": [],
   "source": [
    "from neural_network_multi_layer import NeuralNetwork"
   ]
  },
  {
   "cell_type": "code",
   "execution_count": 5,
   "metadata": {
    "id": "KvO7fJ7sNc93"
   },
   "outputs": [],
   "source": [
    "NN = NeuralNetwork(hidden_layer_sizes=[16,16,16,16], alpha=0.5, lam=0.15, num_iters=100 , batch_size=500)\n",
    "NN.fit(X_train,y_train,10)"
   ]
  },
  {
   "cell_type": "code",
   "execution_count": 6,
   "metadata": {
    "colab": {
     "base_uri": "https://localhost:8080/",
     "height": 295
    },
    "id": "Rb1zkJQEnvze",
    "outputId": "50fe3291-14b7-4925-d41f-3fecaa584ace"
   },
   "outputs": [
    {
     "data": {
      "image/png": "[encoded data removed]",
      "text/plain": [
       "<Figure size 432x288 with 1 Axes>"
      ]
     },
     "metadata": {
      "needs_background": "light",
      "tags": []
     },
     "output_type": "display_data"
    }
   ],
   "source": [
    "NN.plot()"
   ]
  },
  {
   "cell_type": "code",
   "execution_count": 7,
   "metadata": {
    "colab": {
     "base_uri": "https://localhost:8080/"
    },
    "id": "Go4BzXjlpLgl",
    "outputId": "53ddcf36-91c9-4d01-e8e7-13ae64bd7c51"
   },
   "outputs": [
    {
     "name": "stdout",
     "output_type": "stream",
     "text": [
      "Accuracy of trained model on train data: 97.365\n",
      "Accuracy of trained model on test data: 97.75\n"
     ]
    }
   ],
   "source": [
    "y_pred = NN.predict(X_train)\n",
    "print(\"Accuracy of trained model on train data:\",NN.accuracy(y_train, y_pred))\n",
    "y_pred = NN.predict(X_test)\n",
    "print(\"Accuracy of trained model on test data:\",NN.accuracy(y_test,y_pred))\n"
   ]
  },
  {
   "cell_type": "markdown",
   "metadata": {
    "id": "Hun4zApLFvV_"
   },
   "source": [
    "# Neural Network (Multi Layer with scilearn kit)"
   ]
  },
  {
   "cell_type": "code",
   "execution_count": 8,
   "metadata": {
    "colab": {
     "base_uri": "https://localhost:8080/"
    },
    "id": "A_LIQMP50Cpv",
    "outputId": "f488d608-aaa4-4fc2-c314-36d11ccd084f"
   },
   "outputs": [
    {
     "name": "stderr",
     "output_type": "stream",
     "text": [
      "/usr/local/lib/python3.7/dist-packages/sklearn/neural_network/_multilayer_perceptron.py:571: ConvergenceWarning: Stochastic Optimizer: Maximum iterations (200) reached and the optimization hasn't converged yet.\n",
      "  % self.max_iter, ConvergenceWarning)\n"
     ]
    },
    {
     "data": {
      "text/plain": [
       "MLPClassifier(activation='logistic', alpha=0.0001, batch_size='auto',\n",
       "              beta_1=0.9, beta_2=0.999, early_stopping=False, epsilon=1e-08,\n",
       "              hidden_layer_sizes=(16, 16, 16, 16), learning_rate='constant',\n",
       "              learning_rate_init=0.001, max_fun=15000, max_iter=200,\n",
       "              momentum=0.9, n_iter_no_change=10, nesterovs_momentum=True,\n",
       "              power_t=0.5, random_state=None, shuffle=True, solver='adam',\n",
       "              tol=0.0001, validation_fraction=0.1, verbose=False,\n",
       "              warm_start=False)"
      ]
     },
     "execution_count": 8,
     "metadata": {
      "tags": []
     },
     "output_type": "execute_result"
    }
   ],
   "source": [
    "from sklearn.neural_network import MLPClassifier\n",
    "from sklearn import preprocessing\n",
    "sk = MLPClassifier(hidden_layer_sizes=(16,16,16,16), activation='logistic')  \n",
    "X_train_ = preprocessing.scale(X_train)\n",
    "y_train_ = y_train.ravel()\n",
    "X_test_ = preprocessing.scale(X_test)\n",
    "y_test_ = y_test.ravel()\n",
    "sk.fit(X_train_,y_train_)"
   ]
  },
  {
   "cell_type": "code",
   "execution_count": null,
   "metadata": {
    "colab": {
     "base_uri": "https://localhost:8080/"
    },
    "id": "ih6F4_eDyaML",
    "outputId": "4f3d114e-4e06-4294-f8a4-8ff312347d1a"
   },
   "outputs": [
    {
     "name": "stdout",
     "output_type": "stream",
     "text": [
      "Accuracy of trained model on train data: 98.63\n",
      "Accuracy of trained model on test data: 97.89\n"
     ]
    }
   ],
   "source": [
    "accuracy = sk.score(X_train_,y_train_)*100\n",
    "print(\"Accuracy of trained model on train data:\",accuracy)\n",
    "accuracy = sk.score(X_test_,y_train_)*100\n",
    "print(\"Accuracy of trained model on test data:\",accuracy)"
   ]
  },
  {
   "cell_type": "code",
   "execution_count": null,
   "metadata": {
    "id": "CCmqweB8y01U"
   },
   "outputs": [],
   "source": []
  }
 ],
 "metadata": {
  "colab": {
   "collapsed_sections": [],
   "name": "Neural Network Multi Layer Final.ipynb",
   "provenance": []
  },
  "kernelspec": {
   "display_name": "Python 3",
   "language": "python",
   "name": "python3"
  },
  "language_info": {
   "codemirror_mode": {
    "name": "ipython",
    "version": 3
   },
   "file_extension": ".py",
   "mimetype": "text/x-python",
   "name": "python",
   "nbconvert_exporter": "python",
   "pygments_lexer": "ipython3",
   "version": "3.8.5"
  }
 },
 "nbformat": 4,
 "nbformat_minor": 1
}
