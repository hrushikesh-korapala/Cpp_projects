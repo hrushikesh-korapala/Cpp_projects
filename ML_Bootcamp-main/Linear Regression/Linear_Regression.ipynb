{
 "cells": [
  {
   "cell_type": "code",
   "execution_count": 10,
   "metadata": {
    "id": "-J9NmS6164S4"
   },
   "outputs": [],
   "source": [
    "import numpy as np\n",
    "import pandas as pd\n",
    "import matplotlib.pyplot as plt"
   ]
  },
  {
   "cell_type": "code",
   "execution_count": 14,
   "metadata": {
    "id": "whw-0oYwHuSr"
   },
   "outputs": [],
   "source": [
    "#Importing, splitting and assigning training data\n",
    "df = pd.read_csv('sample_data/mnist_train_small.csv', header = None)\n",
    "X = np.array(df.iloc[:,1:])\n",
    "y = np.array(df.iloc[:,0:1])\n",
    "#Importing, splitting and assigning test data\n",
    "df1 = pd.read_csv('sample_data/mnist_test.csv', header=None)\n",
    "Xt = np.array(df.iloc[:,1:])\n",
    "yt = np.array(df.iloc[:,0:1])"
   ]
  },
  {
   "cell_type": "code",
   "execution_count": null,
   "metadata": {
    "id": "bTgbOT4P6_lE"
   },
   "outputs": [],
   "source": [
    "from google.colab import files\n",
    "files.upload()"
   ]
  },
  {
   "cell_type": "code",
   "execution_count": 16,
   "metadata": {
    "id": "VDsekvBM7IG-"
   },
   "outputs": [],
   "source": [
    "from linear_regression import LinearRegression"
   ]
  },
  {
   "cell_type": "code",
   "execution_count": 17,
   "metadata": {
    "id": "G1DMZRVQ9rSw"
   },
   "outputs": [],
   "source": [
    "a = LinearRegression(alpha=0.05, lam=0.001, num_iters=500)  \n",
    "# Takes X, y(Training data) and updates parameters.\n",
    "a.fit(X,y)"
   ]
  },
  {
   "cell_type": "code",
   "execution_count": 18,
   "metadata": {
    "colab": {
     "base_uri": "https://localhost:8080/",
     "height": 295
    },
    "id": "UgLX8DVkCq6_",
    "outputId": "c8cd63fe-82ff-4191-d362-b41918770750"
   },
   "outputs": [
    {
     "data": {
      "image/png": "[encoded data removed]",
      "text/plain": [
       "<Figure size 432x288 with 1 Axes>"
      ]
     },
     "metadata": {
      "needs_background": "light",
      "tags": []
     },
     "output_type": "display_data"
    }
   ],
   "source": [
    "a.plot()    # Plotting (Cost Function vs Iterations)"
   ]
  },
  {
   "cell_type": "code",
   "execution_count": 19,
   "metadata": {
    "colab": {
     "base_uri": "https://localhost:8080/"
    },
    "id": "S2eiCN4H42vl",
    "outputId": "9749f91d-8d37-4e55-dc6e-76724c26a637"
   },
   "outputs": [
    {
     "name": "stdout",
     "output_type": "stream",
     "text": [
      "Maximum accuracy for traing data: 24.64\n",
      "Threshold value: 0.9\n",
      "Test data accuracy:  24.68\n"
     ]
    }
   ],
   "source": [
    "# Finds the threshold which gives maximum training accuracy.\n",
    "y_pred = a.predict(X)\n",
    "threshold_value = a.threshold(y, y_pred) # Threshold value for maximum accuracy.\n",
    "\n",
    "# Calculates and prints accuracy of trained model with test data.\n",
    "yt_pred = a.predict(Xt)    # Values predicted by model\n",
    "yt_pred = a.y_pred_thresh(yt_pred,threshold_value)    # Predicted values with respect to threshold value\n",
    "yt_acc = a.accuracy(yt,yt_pred)\n",
    "print(\"Test data accuracy: \",yt_acc)"
   ]
  },
  {
   "cell_type": "code",
   "execution_count": 25,
   "metadata": {
    "colab": {
     "base_uri": "https://localhost:8080/"
    },
    "id": "qaRziMoD_eYo",
    "outputId": "599f01d4-fcff-477f-a96f-3138beb12993"
   },
   "outputs": [
    {
     "name": "stdout",
     "output_type": "stream",
     "text": [
      "Maximum accuracy for traing data: 24.16\n",
      "Threshold value: 0.9\n",
      "Test data accuracy:  24.14\n"
     ]
    }
   ],
   "source": [
    "# Linear Regression using scikit learn.\n",
    "from sklearn.linear_model import LinearRegression\n",
    "from sklearn import preprocessing\n",
    "model = LinearRegression()\n",
    "\n",
    "# Applying feature scaling by standardzing the data.\n",
    "X = preprocessing.scale(X)\n",
    "Xt = preprocessing.scale(Xt)\n",
    "\n",
    "# Takes X, y(Training data) and updates parameters.\n",
    "model.fit(X,y)\n",
    "\n",
    "# Finds the threshold which gives maximum training accuracy.\n",
    "yt_pred = model.predict(X)\n",
    "sk_threshold_value = a.threshold(yt, yt_pred)\n",
    "\n",
    "# Calculates and prints accuracy of trained model with test data.\n",
    "sk_yt_pred = model.predict(Xt)    # Values predicted by model\n",
    "sk_yt_pred = a.y_pred_thresh(sk_yt_pred,sk_threshold_value)    # Predicted values with respect to threshold value\n",
    "sk_yt_acc = a.accuracy(yt,sk_yt_pred)\n",
    "print(\"Test data accuracy: \",sk_yt_acc)"
   ]
  },
  {
   "cell_type": "code",
   "execution_count": 9,
   "metadata": {
    "id": "7D62_mWxrr6e"
   },
   "outputs": [],
   "source": []
  }
 ],
 "metadata": {
  "colab": {
   "collapsed_sections": [],
   "name": "Linear_Regression_Final.ipynb",
   "provenance": []
  },
  "kernelspec": {
   "display_name": "Python 3",
   "language": "python",
   "name": "python3"
  },
  "language_info": {
   "codemirror_mode": {
    "name": "ipython",
    "version": 3
   },
   "file_extension": ".py",
   "mimetype": "text/x-python",
   "name": "python",
   "nbconvert_exporter": "python",
   "pygments_lexer": "ipython3",
   "version": "3.8.5"
  }
 },
 "nbformat": 4,
 "nbformat_minor": 1
}
