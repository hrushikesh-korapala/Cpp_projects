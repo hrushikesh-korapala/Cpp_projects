{
 "cells": [
  {
   "cell_type": "code",
   "execution_count": 157,
   "metadata": {
    "id": "2bdY0f3U9Haf"
   },
   "outputs": [],
   "source": [
    "# Importing required libraries\n",
    "import numpy as np\n",
    "import pandas as pd\n",
    "import matplotlib.pyplot as plt"
   ]
  },
  {
   "cell_type": "code",
   "execution_count": 158,
   "metadata": {
    "id": "6uuelBSb1xnI"
   },
   "outputs": [],
   "source": [
    "#Importing, splitting and assigning training data\n",
    "df = pd.read_csv('sample_data/mnist_train_small.csv',header = None)\n",
    "X_train = np.array(df.iloc[:,1:])\n",
    "y_train = np.array(df.iloc[:,0:1])\n",
    "#Importing, splitting and assigning test data\n",
    "df1 = pd.read_csv('sample_data/mnist_test.csv',header = None)\n",
    "X_test = np.array(df.iloc[:,1:])\n",
    "y_test = np.array(df.iloc[:,0:1])"
   ]
  },
  {
   "cell_type": "code",
   "execution_count": null,
   "metadata": {
    "id": "Dyfm-0No1wwh"
   },
   "outputs": [],
   "source": [
    "from google.colab import files\n",
    "files.upload()"
   ]
  },
  {
   "cell_type": "code",
   "execution_count": 160,
   "metadata": {
    "id": "suzgoKMHJcwV"
   },
   "outputs": [],
   "source": [
    "from logistic_regression import LogisticRegression"
   ]
  },
  {
   "cell_type": "code",
   "execution_count": 161,
   "metadata": {
    "id": "0coPVgte1jly"
   },
   "outputs": [],
   "source": [
    "a = logistic_regression(alpha=0.5, lam=0.01, num_iters=150)\n",
    "# Takes X, y(Training data) and updates parameters(theta).\n",
    "a.fit(X_train,y_train,10)"
   ]
  },
  {
   "cell_type": "code",
   "execution_count": 162,
   "metadata": {
    "colab": {
     "base_uri": "https://localhost:8080/",
     "height": 295
    },
    "id": "k5w0IAGPW48d",
    "outputId": "c4450f85-38d2-455c-aff7-6c47e0e1a5c3"
   },
   "outputs": [
    {
     "data": {
      "image/png": "[encoded data removed]",
      "text/plain": [
       "<Figure size 432x288 with 1 Axes>"
      ]
     },
     "metadata": {
      "needs_background": "light",
      "tags": []
     },
     "output_type": "display_data"
    }
   ],
   "source": [
    "a.plot()    # Plotting (Cost Function vs Iterations)"
   ]
  },
  {
   "cell_type": "code",
   "execution_count": 163,
   "metadata": {
    "colab": {
     "base_uri": "https://localhost:8080/"
    },
    "id": "-VcGbc2eu775",
    "outputId": "703e428b-940b-4784-f73b-46387d454699"
   },
   "outputs": [
    {
     "name": "stdout",
     "output_type": "stream",
     "text": [
      "Train Accuracy:  90.93\n",
      "Test Accuracy 91.08500000000001\n"
     ]
    }
   ],
   "source": [
    "# Calculates and prints accuracy of trained model with test data.\n",
    "y_pred = a.predict(X_train)\n",
    "print(\"Train Accuracy: \",a.accuracy(y_train,y_pred))\n",
    "y_pred = a.predict(X_test)\n",
    "print(\"Test Accuracy\",a.accuracy(y_test,y_pred))"
   ]
  },
  {
   "cell_type": "code",
   "execution_count": 164,
   "metadata": {
    "colab": {
     "base_uri": "https://localhost:8080/"
    },
    "id": "tMiOv51DS4H0",
    "outputId": "2e9cad1c-33c7-4eb7-d280-08b97e958848"
   },
   "outputs": [
    {
     "name": "stdout",
     "output_type": "stream",
     "text": [
      "sk-learn Train Accuracy:  97.175\n",
      "sk-learn Test Accuracy 96.39999999999999\n"
     ]
    },
    {
     "name": "stderr",
     "output_type": "stream",
     "text": [
      "/usr/local/lib/python3.7/dist-packages/sklearn/linear_model/_logistic.py:940: ConvergenceWarning: lbfgs failed to converge (status=1):\n",
      "STOP: TOTAL NO. of ITERATIONS REACHED LIMIT.\n",
      "\n",
      "Increase the number of iterations (max_iter) or scale the data as shown in:\n",
      "    https://scikit-learn.org/stable/modules/preprocessing.html\n",
      "Please also refer to the documentation for alternative solver options:\n",
      "    https://scikit-learn.org/stable/modules/linear_model.html#logistic-regression\n",
      "  extra_warning_msg=_LOGISTIC_SOLVER_CONVERGENCE_MSG)\n"
     ]
    }
   ],
   "source": [
    "# Logistic Regression using scikit learn.\n",
    "from sklearn.linear_model import LogisticRegression\n",
    "from sklearn import preprocessing\n",
    "sk = LogisticRegression()\n",
    "\n",
    "# Applying feature scaling by standardzing the data.\n",
    "X_train = preprocessing.scale(X_train)\n",
    "y_train = y_train.ravel()\n",
    "X_test = preprocessing.scale(X_test)\n",
    "y_test = y_test.ravel()\n",
    "\n",
    "# Takes X_train, y_train(Training data) and updates parameters.\n",
    "sk.fit(X_train,y_train)\n",
    "\n",
    "# Calculates and prints accuracy of trained model with train, test data.\n",
    "print(\"sk-learn Train Accuracy: \",sk.score(X_train,y_train)*100)\n",
    "print(\"sk-learn Test Accuracy\",sk.score(X_test,y_test)*100)\n"
   ]
  },
  {
   "cell_type": "code",
   "execution_count": 136,
   "metadata": {
    "id": "RictwlCAxrVv"
   },
   "outputs": [],
   "source": []
  }
 ],
 "metadata": {
  "colab": {
   "collapsed_sections": [],
   "name": "Logistic Regression Final.ipynb",
   "provenance": []
  },
  "kernelspec": {
   "display_name": "Python 3",
   "language": "python",
   "name": "python3"
  },
  "language_info": {
   "codemirror_mode": {
    "name": "ipython",
    "version": 3
   },
   "file_extension": ".py",
   "mimetype": "text/x-python",
   "name": "python",
   "nbconvert_exporter": "python",
   "pygments_lexer": "ipython3",
   "version": "3.8.5"
  }
 },
 "nbformat": 4,
 "nbformat_minor": 1
}
